{
 "cells": [
  {
   "cell_type": "code",
   "execution_count": 15,
   "id": "e7c5fad5-07ee-4b43-9f30-2b7bd271ccff",
   "metadata": {},
   "outputs": [
    {
     "name": "stdout",
     "output_type": "stream",
     "text": [
      "[1 2 3 4 5]\n",
      "After adding 1: [2 3 4 5 6]\n",
      "After multiplying by 3: [ 3  6  9 12 15]\n",
      "After dividing by 2: [0.5 1.  1.5 2.  2.5]\n"
     ]
    }
   ],
   "source": [
    "import numpy as np\n",
    "arr=np.array([1,2,3,4,5])\n",
    "print(arr)\n",
    "#a)\n",
    "add_arr=arr+1\n",
    "print('After adding 1:',add_arr)\n",
    "#b)\n",
    "mul_arr=arr*3\n",
    "print(\"After multiplying by 3:\", mul_arr)\n",
    "#c)\n",
    "div_arr = arr / 2\n",
    "print(\"After dividing by 2:\", div_arr)\n",
    "\n",
    "\n"
   ]
  },
  {
   "cell_type": "code",
   "execution_count": 17,
   "id": "d20cbc63-a136-43c0-8e7f-12ee115845ee",
   "metadata": {},
   "outputs": [
    {
     "name": "stdout",
     "output_type": "stream",
     "text": [
      "Reversed array: [5 4 6 3 2 1]\n"
     ]
    }
   ],
   "source": [
    "#2a)\n",
    "arr = np.array([1, 2, 3, 6, 4, 5])\n",
    "reversed_arr = np.flip(arr)\n",
    "print(\"Reversed array:\", reversed_arr)\n",
    "\n",
    "\n"
   ]
  },
  {
   "cell_type": "code",
   "execution_count": 21,
   "id": "644ae3ef-c66d-4c5d-a840-4f147ba7620d",
   "metadata": {},
   "outputs": [
    {
     "name": "stdout",
     "output_type": "stream",
     "text": [
      "Most Frequent Element in g: 1 Indices: [0 5 7 8 9]\n",
      "Most Frequent Element in h: 1 Indices: [0 1 2]\n"
     ]
    }
   ],
   "source": [
    "\n",
    "#b)\n",
    "from collections import Counter\n",
    "g =np.array([1, 2, 3, 4, 5, 1, 2, 1, 1, 1])\n",
    "h =np.array([1, 1, 1, 2, 3, 4, 2, 4, 3, 3])\n",
    "i = Counter(g)\n",
    "j = i.most_common(1)[0][0]\n",
    "k =np.where(g == j)[0]\n",
    "l =Counter(h)\n",
    "m =l.most_common(1)[0][0]\n",
    "n = np.where(h == m)[0]\n",
    "print(\"Most Frequent Element in g:\", j, \"Indices:\", k)\n",
    "print(\"Most Frequent Element in h:\", m, \"Indices:\", n)"
   ]
  },
  {
   "cell_type": "code",
   "execution_count": 23,
   "id": "dc7dd28d-d5c6-4be0-975d-eaad5bece949",
   "metadata": {},
   "outputs": [
    {
     "name": "stdout",
     "output_type": "stream",
     "text": [
      "1st row, 2nd column: 20\n",
      "3rd row, 1st column: 70\n"
     ]
    }
   ],
   "source": [
    "arr =np.array([[10, 20, 30], [40, 50, 60], [70, 80, 90]])\n",
    "\n",
    "# a) 1st row, 2nd column\n",
    "print(\"1st row, 2nd column:\", arr[0, 1])\n",
    "\n",
    "# b) 3rd row, 1st column\n",
    "print(\"3rd row, 1st column:\", arr[2, 0])"
   ]
  },
  {
   "cell_type": "code",
   "execution_count": 13,
   "id": "e6fdd9f2-a12d-4eed-90af-7b6b7edfb88d",
   "metadata": {},
   "outputs": [
    {
     "name": "stdout",
     "output_type": "stream",
     "text": [
      "Dimensions: 1\n",
      "Shape: (25,)\n",
      "Total elements: 25\n",
      "Data type: float64\n",
      "Total bytes: 200\n",
      "Transposed with reshape:\n",
      " [[ 10.    13.75  17.5   21.25  25.    28.75  32.5   36.25  40.    43.75\n",
      "   47.5   51.25  55.    58.75  62.5   66.25  70.    73.75  77.5   81.25\n",
      "   85.    88.75  92.5   96.25 100.  ]]\n",
      "Transposed with T attribute:\n",
      " [[ 10.  ]\n",
      " [ 13.75]\n",
      " [ 17.5 ]\n",
      " [ 21.25]\n",
      " [ 25.  ]\n",
      " [ 28.75]\n",
      " [ 32.5 ]\n",
      " [ 36.25]\n",
      " [ 40.  ]\n",
      " [ 43.75]\n",
      " [ 47.5 ]\n",
      " [ 51.25]\n",
      " [ 55.  ]\n",
      " [ 58.75]\n",
      " [ 62.5 ]\n",
      " [ 66.25]\n",
      " [ 70.  ]\n",
      " [ 73.75]\n",
      " [ 77.5 ]\n",
      " [ 81.25]\n",
      " [ 85.  ]\n",
      " [ 88.75]\n",
      " [ 92.5 ]\n",
      " [ 96.25]\n",
      " [100.  ]]\n"
     ]
    }
   ],
   "source": [
    "Priyam = np.linspace(10, 100, 25)\n",
    "print(\"Dimensions:\", Priyam.ndim)\n",
    "print(\"Shape:\", Priyam.shape)\n",
    "print(\"Total elements:\",  Priyam .size)\n",
    "print(\"Data type:\",  Priyam .dtype)\n",
    "print(\"Total bytes:\",  Priyam.nbytes)\n",
    "\n",
    "transposed_reshape =  Priyam.reshape(-1, 1).T  \n",
    "print(\"Transposed with reshape:\\n\", transposed_reshape)\n",
    "\n",
    "transposed_T = Priyam .reshape(1, -1).T\n",
    "print(\"Transposed with T attribute:\\n\", transposed_T)\n"
   ]
  },
  {
   "cell_type": "code",
   "execution_count": 25,
   "id": "e5e0b221-9500-4ba6-812d-70aadfab95b2",
   "metadata": {},
   "outputs": [
    {
     "name": "stdout",
     "output_type": "stream",
     "text": [
      "Mean: 43.333333333333336\n",
      "Median: 37.5\n",
      "Max: 90\n",
      "Min: 10\n",
      "Unique elements: [10 15 20 30 35 40 50 60 70 80 90]\n",
      "Reshaped (4x3):\n",
      " [[10 20 30]\n",
      " [40 50 60]\n",
      " [70 80 90]\n",
      " [15 20 35]]\n",
      "Resized (2x3):\n",
      " [[10 20 30]\n",
      " [40 50 60]]\n"
     ]
    }
   ],
   "source": [
    "# Create array\n",
    "ucs420_Priyam =np.array([[10,20,30,40], [50,60,70,80], [90,15,20,35]])\n",
    "\n",
    "# Compute stats\n",
    "print(\"Mean:\", np.mean(ucs420_Priyam))\n",
    "print(\"Median:\", np.median(ucs420_Priyam))\n",
    "print(\"Max:\", np.max(ucs420_Priyam))\n",
    "print(\"Min:\", np.min(ucs420_Priyam))\n",
    "print(\"Unique elements:\", np.unique(ucs420_Priyam))\n",
    "\n",
    "# Reshape to 4x3\n",
    "reshaped_ucs420_Priyam = ucs420_Priyam.reshape(4, 3)\n",
    "print(\"Reshaped (4x3):\\n\", reshaped_ucs420_Priyam)\n",
    "\n",
    "# Resize to 2x3\n",
    "resized_ucs420_Priyam = np.resize(ucs420_Priyam, (2, 3))\n",
    "print(\"Resized (2x3):\\n\", resized_ucs420_Priyam)"
   ]
  },
  {
   "cell_type": "code",
   "execution_count": null,
   "id": "7250ef66-e6b0-495f-bb7a-8e15ffd99f66",
   "metadata": {},
   "outputs": [],
   "source": []
  },
  {
   "cell_type": "code",
   "execution_count": null,
   "id": "9db5bc42-2eae-4def-aede-d4477eed1bd4",
   "metadata": {},
   "outputs": [],
   "source": []
  }
 ],
 "metadata": {
  "kernelspec": {
   "display_name": "Python [conda env:base] *",
   "language": "python",
   "name": "conda-base-py"
  },
  "language_info": {
   "codemirror_mode": {
    "name": "ipython",
    "version": 3
   },
   "file_extension": ".py",
   "mimetype": "text/x-python",
   "name": "python",
   "nbconvert_exporter": "python",
   "pygments_lexer": "ipython3",
   "version": "3.12.7"
  }
 },
 "nbformat": 4,
 "nbformat_minor": 5
}
