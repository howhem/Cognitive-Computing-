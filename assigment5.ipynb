{
 "cells": [
  {
   "cell_type": "code",
   "execution_count": 1,
   "id": "ac373e64-05dd-4e18-93a7-808dc649e6e2",
   "metadata": {},
   "outputs": [
    {
     "name": "stdout",
     "output_type": "stream",
     "text": [
      "[[14]\n",
      " [16]\n",
      " [15]]\n",
      "[[20  9 16]]\n",
      "[ 10  16  16  52  54  62 453]\n",
      "[0 3 4 1 5 2 6]\n",
      "[10 16 16 52]\n",
      "[ 16  52  54  62 453]\n"
     ]
    }
   ],
   "source": [
    "import numpy as np\n",
    "import pandas as pd \n",
    "gfg=np.matrix('[4,1,9;12,3,1;4,5,6]')\n",
    "total_sum=np.sum(gfg)\n",
    "row_wise=np.sum(gfg,axis=1) \n",
    "print(row_wise)\n",
    "\n",
    "column_wise=np.sum(gfg,axis=0)\n",
    "print(column_wise)\n",
    "#Q2\n",
    "array=np.array([10,52,62,16,16,54,453])\n",
    "sorted_arr=np.sort(array)\n",
    "print(sorted_arr)\n",
    "\n",
    "sorted_indices=np.argsort(array)\n",
    "print(sorted_indices)\n",
    "\n",
    "smallest_4=np.sort(array )[:4]\n",
    "print(smallest_4)\n",
    "largest_5= np.sort(array)[-5:]\n",
    "print(largest_5)"
   ]
  },
  {
   "cell_type": "code",
   "execution_count": 2,
   "id": "c33375a4-acc6-4e20-8642-7cc737c5270e",
   "metadata": {},
   "outputs": [
    {
     "name": "stdout",
     "output_type": "stream",
     "text": [
      "[1 1 2 2 3 2]\n"
     ]
    }
   ],
   "source": [
    "#Q3\n",
    "import numpy as np \n",
    "array = np.array([1.0, 1.2, 2.2, 2.0, 3.0, 2.0])\n",
    "integer_element=array.astype(int)\n",
    "print (integer_element)\n"
   ]
  },
  {
   "cell_type": "code",
   "execution_count": 3,
   "id": "6ecdd96a-ebf5-492c-a28c-9390f0647cf7",
   "metadata": {},
   "outputs": [
    {
     "name": "stdout",
     "output_type": "stream",
     "text": [
      "[1.  1.2 2.2 2.  3.  2. ]\n"
     ]
    }
   ],
   "source": [
    "float_element=array.astype(float)\n",
    "print(float_element)\n"
   ]
  },
  {
   "cell_type": "code",
   "execution_count": 4,
   "id": "2e0fa963-e494-4e11-83a0-a88fe39884b4",
   "metadata": {},
   "outputs": [
    {
     "name": "stdout",
     "output_type": "stream",
     "text": [
      "ASCII Sum (X): 131\n",
      "Sales Data: [131 181 231 281 331]\n"
     ]
    }
   ],
   "source": [
    "\n",
    "first_initial = 'A'  \n",
    "last_initial = 'B'   \n",
    "X = ord(first_initial) + ord(last_initial)\n",
    "sales = np.array([X, X+50, X+100, X+150, X+200])\n",
    "print(f\"ASCII Sum (X): {X}\")\n",
    "print(f\"Sales Data: {sales}\")\n"
   ]
  },
  {
   "cell_type": "code",
   "execution_count": 7,
   "id": "3e5778a2-3e0a-4786-8185-d43b245e7793",
   "metadata": {},
   "outputs": [
    {
     "name": "stdout",
     "output_type": "stream",
     "text": [
      "0.06\n",
      "Sales Data: [131 181 231 281 331]\n",
      "Tax Rate: 6.00%\n",
      "Sales after Tax: [138.86 191.86 244.86 297.86 350.86]\n",
      "Sales after Discount: [131.917 182.267 220.374 268.074 315.774]\n",
      "\n",
      "Expanded Sales Data (3 Weeks):\n",
      "[[131.917   182.267   220.374   268.074   315.774  ]\n",
      " [134.55534 185.91234 224.78148 273.43548 322.08948]\n",
      " [137.19368 189.55768 229.18896 278.79696 328.40496]]\n"
     ]
    }
   ],
   "source": [
    "Tax_rate=((X%5)+5)/100\n",
    "print(Tax_rate)\n",
    "taxed_sales=sales*(1+Tax_rate)\n",
    "discounted_sales = np.where(sales < X+100, taxed_sales * 0.95, taxed_sales * 0.90)\n",
    "weeks = 3\n",
    "sales_matrix = np.tile(discounted_sales, (weeks, 1))  # Create 3×5 matrix\n",
    "# Apply a 2% weekly increase using broadcasting\n",
    "week_multipliers = np.array([1.00, 1.02, 1.04]).reshape(3, 1)  \n",
    "adjusted_sales = sales_matrix * week_multipliers \n",
    "print(f\"Sales Data: {sales}\")\n",
    "print(f\"Tax Rate: {Tax_rate:.2%}\")\n",
    "print(f\"Sales after Tax: {taxed_sales}\")\n",
    "print(f\"Sales after Discount: {discounted_sales}\")\n",
    "print(\"\\nExpanded Sales Data (3 Weeks):\")\n",
    "print(adjusted_sales)\n",
    "\n",
    "\n"
   ]
  },
  {
   "cell_type": "code",
   "execution_count": 15,
   "id": "b29b85f7-2dec-4fad-8cfa-ec32e983dd68",
   "metadata": {},
   "outputs": [
    {
     "data": {
      "image/png": "[encoded data removed]",
      "text/plain": [
       "<Figure size 640x480 with 1 Axes>"
      ]
     },
     "metadata": {},
     "output_type": "display_data"
    }
   ],
   "source": [
    "#Q4\n",
    "import numpy as np \n",
    "import matplotlib.pyplot as plt \n",
    "x=np.linspace(-10,10,100)\n",
    "y1=np.power(x,2)\n",
    "y2=np.sin(x)\n",
    "y3=np.exp(x)\n",
    "y4=np.log(np.abs(x)+1)\n",
    "plt.plot(x, y1, label=\"Y = x^2\", linestyle=\"--\")\n",
    "plt.plot(x, y2, label=\"Y = sin(x)\")\n",
    "plt.plot(x, y3, label=\"Y = e^x\", linestyle=\"-.\")\n",
    "plt.plot(x, y4, label=\"Y = log(|x| + 1)\", linestyle=\":\")\n",
    "\n",
    "\n",
    "plt.xlabel(\"x values\")\n",
    "plt.ylabel(\"y values\")\n",
    "plt.title(\"Plot of Different Functions\")\n",
    "plt.legend\n",
    "\n",
    "\n",
    "plt.show()\n",
    "\n"
   ]
  },
  {
   "cell_type": "code",
   "execution_count": null,
   "id": "ec91f0cc-201f-4cc4-b2e6-a680754104dc",
   "metadata": {},
   "outputs": [],
   "source": []
  }
 ],
 "metadata": {
  "kernelspec": {
   "display_name": "Python [conda env:base] *",
   "language": "python",
   "name": "conda-base-py"
  },
  "language_info": {
   "codemirror_mode": {
    "name": "ipython",
    "version": 3
   },
   "file_extension": ".py",
   "mimetype": "text/x-python",
   "name": "python",
   "nbconvert_exporter": "python",
   "pygments_lexer": "ipython3",
   "version": "3.12.3"
  }
 },
 "nbformat": 4,
 "nbformat_minor": 5
}
